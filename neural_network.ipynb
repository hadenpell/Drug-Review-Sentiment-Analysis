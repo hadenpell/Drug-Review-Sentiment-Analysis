{
 "cells": [
  {
   "cell_type": "code",
   "execution_count": 22,
   "id": "5e395bed",
   "metadata": {},
   "outputs": [],
   "source": [
    "import pandas as pd\n",
    "import numpy as np\n",
    "from os import environ\n",
    "environ[\"KERAS_BACKEND\"] = \"plaidml.keras.backend\"\n",
    "import re\n",
    "from sklearn.metrics import roc_curve, accuracy_score, auc, precision_score, recall_score, f1_score, confusion_matrix\n",
    "from sklearn.model_selection import train_test_split\n",
    "from sklearn.preprocessing import StandardScaler\n",
    "from tensorflow import keras\n",
    "from keras.layers import Conv2D, MaxPool2D, Flatten, Dense, Dropout, BatchNormalization\n",
    "from keras.models import Sequential\n",
    "import matplotlib.pyplot as plt"
   ]
  },
  {
   "cell_type": "code",
   "execution_count": 2,
   "id": "0b6a5a30",
   "metadata": {},
   "outputs": [],
   "source": [
    "train = pd.read_csv('data/train_clean.csv')"
   ]
  },
  {
   "cell_type": "code",
   "execution_count": 3,
   "id": "04b2d732",
   "metadata": {},
   "outputs": [],
   "source": [
    "test = pd.read_csv('data/test_clean.csv')"
   ]
  },
  {
   "cell_type": "code",
   "execution_count": 4,
   "id": "e79ff04b",
   "metadata": {},
   "outputs": [],
   "source": [
    "#Don't include \"Unnamed:0\" column. Separate features and outcome.\n",
    "\n",
    "X_train = train.iloc[:, 1:5001]\n",
    "X_test = test.iloc[:, 1:5001]\n",
    "y_train = train['rating_class']\n",
    "y_test = test['rating_class']"
   ]
  },
  {
   "cell_type": "code",
   "execution_count": 5,
   "id": "d2c35e65",
   "metadata": {},
   "outputs": [
    {
     "name": "stdout",
     "output_type": "stream",
     "text": [
      "(160398, 5000)\n",
      "(53471, 5000)\n",
      "(160398,)\n",
      "(53471,)\n"
     ]
    }
   ],
   "source": [
    "#obtain shapes\n",
    "print(X_train.shape)\n",
    "print(X_test.shape)\n",
    "print(y_train.shape)\n",
    "print(y_test.shape)"
   ]
  },
  {
   "cell_type": "code",
   "execution_count": 6,
   "id": "17262573",
   "metadata": {},
   "outputs": [],
   "source": [
    "# set number of features/dims\n",
    "ndim = 5000"
   ]
  },
  {
   "cell_type": "code",
   "execution_count": null,
   "id": "79013eb6",
   "metadata": {},
   "outputs": [],
   "source": []
  },
  {
   "cell_type": "code",
   "execution_count": 7,
   "id": "86a704c8",
   "metadata": {},
   "outputs": [
    {
     "name": "stdout",
     "output_type": "stream",
     "text": [
      "(160398,)\n",
      "(53471,)\n"
     ]
    }
   ],
   "source": [
    "print(y_train.shape)\n",
    "print(y_test.shape)"
   ]
  },
  {
   "cell_type": "code",
   "execution_count": 8,
   "id": "9fdc36cc",
   "metadata": {},
   "outputs": [],
   "source": [
    "def build_model():\n",
    "  \n",
    "    model = Sequential()\n",
    "\n",
    "    #Start large and condense downwards\n",
    "    model.add(Dense(128, activation='relu', input_dim=ndim))\n",
    "    model.add(Dense(64, activation='relu'))\n",
    "    model.add(Dense(64, activation='relu'))\n",
    "    model.add(Dense(32, activation='relu'))\n",
    "    model.add(Dense(16, activation='relu'))\n",
    "    model.add(Dropout(0.5))\n",
    "    model.add(Dense(1, activation='sigmoid'))\n",
    "    \n",
    "    model.compile(optimizer = 'adam', loss = 'binary_crossentropy', metrics = [\"accuracy\"])\n",
    "    model.summary()\n",
    "    return model\n",
    "\n",
    "def fit_model(model):\n",
    "    #16 for speed/accuracy\n",
    "    #model typically converges right around 11, past this can break the model\n",
    "    model_hist = model.fit(X_train, y_train, batch_size = 16, epochs = 11)\n",
    "    return model_hist "
   ]
  },
  {
   "cell_type": "code",
   "execution_count": 9,
   "id": "fe9c1b4c",
   "metadata": {},
   "outputs": [
    {
     "name": "stdout",
     "output_type": "stream",
     "text": [
      "Model: \"sequential\"\n",
      "_________________________________________________________________\n",
      " Layer (type)                Output Shape              Param #   \n",
      "=================================================================\n",
      " dense (Dense)               (None, 128)               640128    \n",
      "                                                                 \n",
      " dense_1 (Dense)             (None, 64)                8256      \n",
      "                                                                 \n",
      " dense_2 (Dense)             (None, 64)                4160      \n",
      "                                                                 \n",
      " dense_3 (Dense)             (None, 32)                2080      \n",
      "                                                                 \n",
      " dense_4 (Dense)             (None, 16)                528       \n",
      "                                                                 \n",
      " dropout (Dropout)           (None, 16)                0         \n",
      "                                                                 \n",
      " dense_5 (Dense)             (None, 1)                 17        \n",
      "                                                                 \n",
      "=================================================================\n",
      "Total params: 655,169\n",
      "Trainable params: 655,169\n",
      "Non-trainable params: 0\n",
      "_________________________________________________________________\n",
      "Epoch 1/11\n",
      "10025/10025 [==============================] - 43s 4ms/step - loss: 0.4083 - accuracy: 0.8155\n",
      "Epoch 2/11\n",
      "10025/10025 [==============================] - 42s 4ms/step - loss: 0.3165 - accuracy: 0.8827\n",
      "Epoch 3/11\n",
      "10025/10025 [==============================] - 44s 4ms/step - loss: 0.2079 - accuracy: 0.9332\n",
      "Epoch 4/11\n",
      "10025/10025 [==============================] - 56s 6ms/step - loss: 0.1292 - accuracy: 0.9609\n",
      "Epoch 5/11\n",
      "10025/10025 [==============================] - 61s 6ms/step - loss: 0.0847 - accuracy: 0.9744\n",
      "Epoch 6/11\n",
      "10025/10025 [==============================] - 60s 6ms/step - loss: 0.0600 - accuracy: 0.9816\n",
      "Epoch 7/11\n",
      "10025/10025 [==============================] - 59s 6ms/step - loss: 0.0488 - accuracy: 0.9849\n",
      "Epoch 8/11\n",
      "10025/10025 [==============================] - 58s 6ms/step - loss: 0.0414 - accuracy: 0.9880\n",
      "Epoch 9/11\n",
      "10025/10025 [==============================] - 58s 6ms/step - loss: 0.0341 - accuracy: 0.9888\n",
      "Epoch 10/11\n",
      "10025/10025 [==============================] - 59s 6ms/step - loss: 0.0289 - accuracy: 0.9904\n",
      "Epoch 11/11\n",
      "10025/10025 [==============================] - 59s 6ms/step - loss: 0.0262 - accuracy: 0.9914\n"
     ]
    }
   ],
   "source": [
    "# Build the model and fit to training data\n",
    "model = build_model()\n",
    "model_hist = fit_model(model)"
   ]
  },
  {
   "cell_type": "code",
   "execution_count": 10,
   "id": "baad3620",
   "metadata": {},
   "outputs": [
    {
     "data": {
      "text/plain": [
       "array([[1.0000000e+00],\n",
       "       [1.0000000e+00],\n",
       "       [6.3778907e-06],\n",
       "       ...,\n",
       "       [1.9913068e-06],\n",
       "       [1.0000000e+00],\n",
       "       [1.0000000e+00]], dtype=float32)"
      ]
     },
     "execution_count": 10,
     "metadata": {},
     "output_type": "execute_result"
    }
   ],
   "source": [
    "#First label is probability of 0, second is probability of 1\n",
    "train_prediction = model.predict(X_train)\n",
    "train_prediction"
   ]
  },
  {
   "cell_type": "code",
   "execution_count": 11,
   "id": "11e3456f",
   "metadata": {},
   "outputs": [],
   "source": [
    "#Clean predictions for metrics \n",
    "train_predictions = []\n",
    "for i in range(len(train_prediction)):\n",
    "    if train_prediction[i] > 0.5:\n",
    "        train_predictions.append(1)\n",
    "    else:\n",
    "        train_predictions.append(0)"
   ]
  },
  {
   "cell_type": "code",
   "execution_count": 12,
   "id": "f7c49bca",
   "metadata": {},
   "outputs": [
    {
     "name": "stdout",
     "output_type": "stream",
     "text": [
      "Train accuracy: 0.9986845222509009\n",
      "Train precision: 0.998916941869962\n",
      "Train recall: 0.9992096686824555\n",
      "Train F1: 0.9990632838338771\n"
     ]
    }
   ],
   "source": [
    "#Report metrics\n",
    "accuracy_train = (accuracy_score(y_train, train_predictions))\n",
    "precision_train = (precision_score(y_train,train_predictions))\n",
    "recall_train = (recall_score(y_train,train_predictions))\n",
    "f1_train = (f1_score(y_train,train_predictions))\n",
    "\n",
    "print(\"Train accuracy:\", accuracy_train)\n",
    "print(\"Train precision:\", precision_train)\n",
    "print(\"Train recall:\", recall_train)\n",
    "print(\"Train F1:\", f1_train)"
   ]
  },
  {
   "cell_type": "code",
   "execution_count": 13,
   "id": "c4319d9a",
   "metadata": {},
   "outputs": [
    {
     "data": {
      "text/plain": [
       "array([[1.0000000e+00],\n",
       "       [1.0000000e+00],\n",
       "       [9.9999845e-01],\n",
       "       ...,\n",
       "       [1.0000000e+00],\n",
       "       [1.5783310e-04],\n",
       "       [1.0000000e+00]], dtype=float32)"
      ]
     },
     "execution_count": 13,
     "metadata": {},
     "output_type": "execute_result"
    }
   ],
   "source": [
    "#First label is probability of 0, second is probability of 1\n",
    "test_prediction = model.predict(X_test)\n",
    "test_prediction"
   ]
  },
  {
   "cell_type": "code",
   "execution_count": 14,
   "id": "4f0d75d2",
   "metadata": {},
   "outputs": [],
   "source": [
    "#Clean predictions for metrics\n",
    "test_predictions = []\n",
    "for i in range(len(test_prediction)):\n",
    "    if test_prediction[i] > 0.5:\n",
    "        test_predictions.append(1)\n",
    "    else:\n",
    "        test_predictions.append(0)"
   ]
  },
  {
   "cell_type": "code",
   "execution_count": 15,
   "id": "c8d04c0c",
   "metadata": {},
   "outputs": [
    {
     "name": "stdout",
     "output_type": "stream",
     "text": [
      "Test accuracy: 0.9176375979502908\n",
      "Test precision: 0.9369993103082391\n",
      "Test recall: 0.9456789462411651\n",
      "Test F1: 0.9413191205862758\n"
     ]
    }
   ],
   "source": [
    "#First label is probability of 0, second is probability of 1\n",
    "accuracy_test = (accuracy_score(y_test, test_predictions))\n",
    "precision_test = (precision_score(y_test, test_predictions))\n",
    "recall_test = (recall_score(y_test, test_predictions))\n",
    "f1_test = (f1_score(y_test, test_predictions))\n",
    "\n",
    "print(\"Test accuracy:\", accuracy_test)\n",
    "print(\"Test precision:\", precision_test)\n",
    "print(\"Test recall:\", recall_test)\n",
    "print(\"Test F1:\", f1_test)"
   ]
  },
  {
   "cell_type": "code",
   "execution_count": 24,
   "id": "f57c4123",
   "metadata": {},
   "outputs": [
    {
     "data": {
      "text/plain": [
       "Text(0.5, 0, 'False Positive Rate')"
      ]
     },
     "execution_count": 24,
     "metadata": {},
     "output_type": "execute_result"
    },
    {
     "data": {
      "image/png": "[encoded data removed]",
      "text/plain": [
       "<Figure size 432x288 with 1 Axes>"
      ]
     },
     "metadata": {
      "needs_background": "light"
     },
     "output_type": "display_data"
    }
   ],
   "source": [
    "fpr, tpr, thresholds = roc_curve(y_test, test_predictions, pos_label=1)\n",
    "area_under_curve = auc(fpr,tpr)\n",
    "plt.plot(fpr,tpr)\n",
    "plt.ylabel('True Positive Rate')\n",
    "plt.xlabel('False Positive Rate')"
   ]
  },
  {
   "cell_type": "code",
   "execution_count": 25,
   "id": "72c4bc9d",
   "metadata": {},
   "outputs": [
    {
     "name": "stdout",
     "output_type": "stream",
     "text": [
      "Area Under Curve:  0.8991686498685197\n"
     ]
    }
   ],
   "source": [
    "print(\"Area Under Curve: \", area_under_curve)"
   ]
  },
  {
   "cell_type": "code",
   "execution_count": null,
   "id": "ae6214c9",
   "metadata": {},
   "outputs": [],
   "source": []
  }
 ],
 "metadata": {
  "kernelspec": {
   "display_name": "Python 3",
   "language": "python",
   "name": "python3"
  },
  "language_info": {
   "codemirror_mode": {
    "name": "ipython",
    "version": 3
   },
   "file_extension": ".py",
   "mimetype": "text/x-python",
   "name": "python",
   "nbconvert_exporter": "python",
   "pygments_lexer": "ipython3",
   "version": "3.8.8"
  }
 },
 "nbformat": 4,
 "nbformat_minor": 5
}
